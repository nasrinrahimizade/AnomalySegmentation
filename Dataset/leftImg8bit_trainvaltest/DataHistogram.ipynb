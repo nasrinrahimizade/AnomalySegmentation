{
 "cells": [
  {
   "cell_type": "code",
   "execution_count": 20,
   "metadata": {},
   "outputs": [],
   "source": [
    "import os\n",
    "from PIL import Image\n",
    "import torch\n",
    "from torch.utils.data import Dataset\n",
    "from torch.utils.data import DataLoader\n",
    "from collections import Counter, OrderedDict\n",
    "from torchvision import transforms\n",
    "import matplotlib.pyplot as plt"
   ]
  },
  {
   "cell_type": "code",
   "execution_count": 2,
   "metadata": {},
   "outputs": [],
   "source": [
    "EXTENSIONS = ['.jpg', '.png']\n",
    "\n",
    "def load_image(file):\n",
    "    return Image.open(file)\n",
    "\n",
    "def is_image(filename):\n",
    "    return any(filename.endswith(ext) for ext in EXTENSIONS)\n",
    "\n",
    "def is_label(filename):\n",
    "    return filename.endswith(\"_labelTrainIds.png\")\n",
    "\n",
    "def image_path_city(root, name):\n",
    "    return os.path.join(root, f'{name}')\n"
   ]
  },
  {
   "cell_type": "code",
   "execution_count": 3,
   "metadata": {},
   "outputs": [],
   "source": [
    "class cityscapes(Dataset):\n",
    "\n",
    "    def __init__(self, root, co_transform=None, subset='train'):\n",
    "        self.images_root = os.path.join(root, 'leftImg8bit/')\n",
    "        self.labels_root = os.path.join(root, 'gtFine/')\n",
    "        \n",
    "        self.images_root += subset\n",
    "        self.labels_root += subset\n",
    "\n",
    "        print (self.images_root)\n",
    "        #self.filenames = [image_basename(f) for f in os.listdir(self.images_root) if is_image(f)]\n",
    "        self.filenames = [os.path.join(dp, f) for dp, dn, fn in os.walk(os.path.expanduser(self.images_root)) for f in fn if is_image(f)]\n",
    "        self.filenames.sort()\n",
    "\n",
    "        #[os.path.join(dp, f) for dp, dn, fn in os.walk(os.path.expanduser(\".\")) for f in fn]\n",
    "        #self.filenamesGt = [image_basename(f) for f in os.listdir(self.labels_root) if is_image(f)]\n",
    "        self.filenamesGt = [os.path.join(dp, f) for dp, dn, fn in os.walk(os.path.expanduser(self.labels_root)) for f in fn if is_label(f)]\n",
    "        self.filenamesGt.sort()\n",
    "\n",
    "        self.co_transform = co_transform # ADDED THIS\n",
    "\n",
    "\n",
    "    def __getitem__(self, index):\n",
    "        filename = self.filenames[index]\n",
    "        filenameGt = self.filenamesGt[index]\n",
    "\n",
    "        with open(image_path_city(self.images_root, filename), 'rb') as f:\n",
    "            image = load_image(f).convert('RGB')\n",
    "        with open(image_path_city(self.labels_root, filenameGt), 'rb') as f:\n",
    "            label = load_image(f).convert('P')\n",
    "\n",
    "        if self.co_transform is not None:\n",
    "            image = self.co_transform(image)\n",
    "            label = self.co_transform(label)\n",
    "            \n",
    "            # image, label = self.co_transform(image, label)\n",
    "\n",
    "        return image, label\n",
    "\n",
    "    def __len__(self):\n",
    "        return len(self.filenames)\n"
   ]
  },
  {
   "cell_type": "code",
   "execution_count": 9,
   "metadata": {},
   "outputs": [
    {
     "name": "stdout",
     "output_type": "stream",
     "text": [
      "D:\\COMPUTER_DEPARTMENT\\3RD_YEAR\\AML\\AML_Project_v2.0\\Dataset\\leftImg8bit_trainvaltest\\leftImg8bit/train\n",
      "Done with 47.9327731092437 %%%\n",
      "\n",
      "Counter({0.0: 2036048947, 0.007843137718737125: 1259773719, 0.0313725508749485: 878732748, 1.0: 718433804, 0.05098039284348488: 386502900, 0.003921568859368563: 336030285, 0.03921568766236305: 221459205, 0.019607843831181526: 67771815, 0.04313725605607033: 67202381, 0.03529411926865578: 63964778, 0.01568627543747425: 48487347, 0.0117647061124444: 36211195, 0.027450980618596077: 30522367, 0.07058823853731155: 22849760, 0.054901961237192154: 14775005, 0.05882352963089943: 12995799, 0.062745101749897: 12863932, 0.0235294122248888: 11510397, 0.0470588244497776: 7444907, 0.06666667014360428: 5445909})\n"
     ]
    }
   ],
   "source": [
    "# Example data and labels\n",
    "dataset_path = 'D:\\\\COMPUTER_DEPARTMENT\\\\3RD_YEAR\\\\AML\\\\AML_Project_v2.0\\\\Dataset\\\\leftImg8bit_trainvaltest'\n",
    "transform = transforms.ToTensor()\n",
    "\n",
    "dataset = cityscapes(dataset_path,co_transform=transform,subset='train')\n",
    "# print(dataset.__len__())\n",
    "loader = DataLoader(dataset, batch_size=64, shuffle=True)\n",
    "\n",
    "label_counts = Counter()\n",
    "print('Done with 0 %',end='\\r')\n",
    "i =0\n",
    "for _, labels in loader:\n",
    "    print(f'Done with {len(labels)*i*100/dataset.__len__()} %',end='\\r')\n",
    "    i+=1\n",
    "    label_counts.update(labels.view(-1).tolist() )\n",
    "print('\\n')\n",
    "print(label_counts)\n",
    "    "
   ]
  },
  {
   "cell_type": "code",
   "execution_count": 10,
   "metadata": {},
   "outputs": [
    {
     "name": "stdout",
     "output_type": "stream",
     "text": [
      "Counter({0: 2036048947, 2: 1259773719, 8: 878732748, 255: 718433804, 13: 386502900, 1: 336030285, 10: 221459205, 5: 67771815, 11: 67202381, 9: 63964778, 4: 48487347, 3: 36211195, 7: 30522367, 18: 22849760, 14: 14775005, 15: 12995799, 16: 12863932, 6: 11510397, 12: 7444907, 17: 5445909})\n"
     ]
    }
   ],
   "source": [
    "def transform_key(key):\n",
    "    newkey = int(key * 255)\n",
    "    return newkey\n",
    "\n",
    "# Create a new Counter with updated keys\n",
    "label_counts = Counter({transform_key(k): v for k, v in label_counts.items()})\n",
    "\n",
    "print(label_counts)"
   ]
  },
  {
   "cell_type": "code",
   "execution_count": 21,
   "metadata": {},
   "outputs": [
    {
     "name": "stdout",
     "output_type": "stream",
     "text": [
      "OrderedDict({0: 2036048947, 1: 336030285, 2: 1259773719, 3: 36211195, 4: 48487347, 5: 67771815, 6: 11510397, 7: 30522367, 8: 878732748, 9: 63964778, 10: 221459205, 11: 67202381, 12: 7444907, 13: 386502900, 14: 14775005, 15: 12995799, 16: 12863932, 17: 5445909, 18: 22849760, 255: 718433804})\n"
     ]
    }
   ],
   "source": [
    "sorted_counter = OrderedDict(dict(sorted(label_counts.items())))\n",
    "print(sorted_counter)\n"
   ]
  },
  {
   "cell_type": "code",
   "execution_count": 22,
   "metadata": {},
   "outputs": [
    {
     "name": "stdout",
     "output_type": "stream",
     "text": [
      "Tensor representation of Counter:\n",
      "tensor([[         0, 2036048947],\n",
      "        [         1,  336030285],\n",
      "        [         2, 1259773719],\n",
      "        [         3,   36211195],\n",
      "        [         4,   48487347],\n",
      "        [         5,   67771815],\n",
      "        [         6,   11510397],\n",
      "        [         7,   30522367],\n",
      "        [         8,  878732748],\n",
      "        [         9,   63964778],\n",
      "        [        10,  221459205],\n",
      "        [        11,   67202381],\n",
      "        [        12,    7444907],\n",
      "        [        13,  386502900],\n",
      "        [        14,   14775005],\n",
      "        [        15,   12995799],\n",
      "        [        16,   12863932],\n",
      "        [        17,    5445909],\n",
      "        [        18,   22849760],\n",
      "        [       255,  718433804]])\n"
     ]
    }
   ],
   "source": [
    "keys = torch.tensor(list(sorted_counter.keys()), dtype=torch.long)\n",
    "values = torch.tensor(list(sorted_counter.values()), dtype=torch.long)\n",
    "\n",
    "# Combine keys and values into one tensor\n",
    "tensor = torch.stack((keys, values), dim=1)\n",
    "\n",
    "print(\"Tensor representation of Counter:\")\n",
    "print(tensor)\n",
    "# Save the tensor to a file\n",
    "torch.save(tensor, 'sorted_counter_tensor.pt')\n",
    "\n",
    "# loaded_tensor = torch.load('counter_tensor.pt')\n",
    "# print(\"Loaded Tensor:\")\n",
    "# print(loaded_tensor)\n"
   ]
  },
  {
   "cell_type": "code",
   "execution_count": 29,
   "metadata": {},
   "outputs": [
    {
     "name": "stdout",
     "output_type": "stream",
     "text": [
      "Loaded Tensor:\n",
      "tensor([[         0, 2036048947],\n",
      "        [         1,  336030285],\n",
      "        [         2, 1259773719],\n",
      "        [         3,   36211195],\n",
      "        [         4,   48487347],\n",
      "        [         5,   67771815],\n",
      "        [         6,   11510397],\n",
      "        [         7,   30522367],\n",
      "        [         8,  878732748],\n",
      "        [         9,   63964778],\n",
      "        [        10,  221459205],\n",
      "        [        11,   67202381],\n",
      "        [        12,    7444907],\n",
      "        [        13,  386502900],\n",
      "        [        14,   14775005],\n",
      "        [        15,   12995799],\n",
      "        [        16,   12863932],\n",
      "        [        17,    5445909],\n",
      "        [        18,   22849760],\n",
      "        [       255,  718433804]])\n"
     ]
    }
   ],
   "source": [
    "loaded_tensor = torch.load('sorted_counter_tensor.pt')\n",
    "print(\"Loaded Tensor:\")\n",
    "print(loaded_tensor)\n",
    "# print(loaded_tensor[0][1])"
   ]
  },
  {
   "cell_type": "code",
   "execution_count": 55,
   "metadata": {},
   "outputs": [
    {
     "name": "stdout",
     "output_type": "stream",
     "text": [
      "OrderedDict({0: 2036048947, 1: 336030285, 2: 1259773719, 3: 36211195, 4: 48487347, 5: 67771815, 6: 11510397, 7: 30522367, 8: 878732748, 9: 63964778, 10: 221459205, 11: 67202381, 12: 7444907, 13: 386502900, 14: 14775005, 15: 12995799, 16: 12863932, 17: 5445909, 18: 22849760, 255: 718433804})\n",
      "All counts: [2036048947, 336030285, 1259773719, 36211195, 48487347, 67771815, 11510397, 30522367, 878732748, 63964778, 221459205, 67202381, 7444907, 386502900, 14775005, 12995799, 12863932, 5445909, 22849760, 718433804]\n"
     ]
    },
    {
     "data": {
      "image/png": "[encoded data removed]",
      "text/plain": [
       "<Figure size 1000x600 with 1 Axes>"
      ]
     },
     "metadata": {},
     "output_type": "display_data"
    }
   ],
   "source": [
    "all_labels = list(range(len(sorted_counter)))\n",
    "print(sorted_counter)\n",
    "all_counts = [sorted_counter.get(label, 0) for label in all_labels]\n",
    "all_counts[19]=sorted_counter.get(255)\n",
    "# Print the counts for debugging\n",
    "print(f\"All counts: {all_counts}\")\n",
    "\n",
    "# Plot histogram\n",
    "plt.figure(figsize=(10, 6))\n",
    "plt.bar(all_labels, all_counts, color='blue', alpha=0.7)\n",
    "plt.xlabel('Label')\n",
    "plt.ylabel('Count')\n",
    "plt.title('Histogram of Label Counts')\n",
    "plt.xticks(all_labels)  # Ensure x-axis shows all labels\n",
    "plt.show()"
   ]
  },
  {
   "cell_type": "code",
   "execution_count": 58,
   "metadata": {},
   "outputs": [
    {
     "name": "stdout",
     "output_type": "stream",
     "text": [
      "[0, 1, 2, 3, 4, 5, 6, 7, 8, 9, 10, 11, 12, 13, 14, 15, 16, 17, 18, 255]\n",
      "OrderedDict({0: 3.064281538610771, 1: 18.566859829315682, 2: 4.952498298625009, 3: 172.29553457155998, 4: 128.6733052233194, 5: 92.05931994000751, 6: 542.0340584256129, 7: 204.408367149245, 8: 7.100028096369523, 9: 97.53847969268337, 10: 28.172354362059593, 11: 92.83937722385164, 12: 838.0262104012851, 13: 16.142251972753634, 14: 422.2690415333193, 15: 480.08030902909474, 16: 485.0015687271979, 17: 1145.6355954533944, 18: 273.0456337396979, 255: 8.684206067786866})\n",
      "tensor([   3.0643,   18.5669,    4.9525,  172.2955,  128.6733,   92.0593,\n",
      "         542.0341,  204.4084,    7.1000,   97.5385,   28.1724,   92.8394,\n",
      "         838.0262,   16.1423,  422.2690,  480.0803,  485.0016, 1145.6356,\n",
      "         273.0456,    8.6842])\n"
     ]
    }
   ],
   "source": [
    "# Compute class weights\n",
    "total_count = sum(label_counts.values())\n",
    "num_classes = len(label_counts)\n",
    "class_weights = {label: total_count / count for label, count in label_counts.items()}\n",
    "print(sorted(class_weights))\n",
    "sorted_weights = OrderedDict(dict(sorted(class_weights.items())))\n",
    "print(sorted_weights)\n",
    "weights = [sorted_weights.get(i,0) for i in range(num_classes)]\n",
    "weights[19] = sorted_weights.get(255,0)\n",
    "weights_tensor = torch.tensor(weights, dtype=torch.float)\n",
    "print(weights_tensor)\n"
   ]
  },
  {
   "cell_type": "code",
   "execution_count": 62,
   "metadata": {},
   "outputs": [
    {
     "name": "stdout",
     "output_type": "stream",
     "text": [
      "Normalized Weight Array: tensor([0.0006, 0.0037, 0.0010, 0.0340, 0.0254, 0.0182, 0.1071, 0.0404, 0.0014,\n",
      "        0.0193, 0.0056, 0.0183, 0.1656, 0.0032, 0.0834, 0.0949, 0.0958, 0.2264,\n",
      "        0.0540, 0.0017])\n"
     ]
    }
   ],
   "source": [
    "weight_array_normalized = weights_tensor / weights_tensor.sum()\n",
    "print(\"Normalized Weight Array:\", weight_array_normalized)"
   ]
  },
  {
   "cell_type": "code",
   "execution_count": 63,
   "metadata": {},
   "outputs": [],
   "source": [
    "torch.save(weights_tensor, 'sorted_weights.pt')\n",
    "torch.save(weight_array_normalized,'Normalized_weights.pt')\n"
   ]
  },
  {
   "cell_type": "code",
   "execution_count": 76,
   "metadata": {},
   "outputs": [
    {
     "name": "stdout",
     "output_type": "stream",
     "text": [
      "tensor(0.)\n"
     ]
    }
   ],
   "source": [
    "loaded_tensor = torch.load('sorted_weights.pt')\n",
    "# print(\"Loaded Tensor:\")\n",
    "# loaded_tensor[19]=0\n",
    "print(loaded_tensor)"
   ]
  }
 ],
 "metadata": {
  "kernelspec": {
   "display_name": "Python 3",
   "language": "python",
   "name": "python3"
  },
  "language_info": {
   "codemirror_mode": {
    "name": "ipython",
    "version": 3
   },
   "file_extension": ".py",
   "mimetype": "text/x-python",
   "name": "python",
   "nbconvert_exporter": "python",
   "pygments_lexer": "ipython3",
   "version": "3.12.2"
  }
 },
 "nbformat": 4,
 "nbformat_minor": 2
}
